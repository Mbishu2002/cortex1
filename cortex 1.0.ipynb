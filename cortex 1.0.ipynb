{
 "cells": [
  {
   "cell_type": "code",
   "execution_count": null,
   "id": "983ca84d",
   "metadata": {},
   "outputs": [],
   "source": [
    "import torch\n",
    "import numpy as np\n",
    "import pandas as pd\n",
    "import matplotlib.pyplot as plt"
   ]
  },
  {
   "cell_type": "code",
   "execution_count": null,
   "id": "253e6f9b",
   "metadata": {},
   "outputs": [],
   "source": [
    "import pandas as pd\n",
    "import torch\n",
    "from torch.utils.data import Dataset, DataLoader\n",
    "#to be modfied\n",
    "class CustomDataset(Dataset):\n",
    "    def __init__(self, data_file):\n",
    "        # Load data from file into a Pandas dataframe\n",
    "        df = pd.read_csv(data_file)\n",
    "\n",
    "        # Split dataframe into data and labels\n",
    "        self.data = df.drop(columns=['label'])\n",
    "        self.labels = df['label']\n",
    "\n",
    "    def __len__(self):\n",
    "        # Return the size of the dataset\n",
    "        return len(self.data)\n",
    "\n",
    "    def __getitem__(self, index):\n",
    "        # Get a single item from the dataset\n",
    "        item = self.data.iloc[index]\n",
    "        label = self.labels[index]\n",
    "\n",
    "        # Convert data and label to PyTorch tensors\n",
    "        data_tensor = torch.tensor(item.values, dtype=torch.float32)\n",
    "        label_tensor = torch.tensor(label, dtype=torch.long)\n",
    "        return data_tensor, label_tensor\n"
   ]
  },
  {
   "cell_type": "code",
   "execution_count": null,
   "id": "6890553b",
   "metadata": {},
   "outputs": [],
   "source": [
    "from sklearn.model_selection import train_test_split\n",
    "#read dataset with pandas if you are not importing it from a cloud or from any \n",
    "#any data set library\n",
    "df = pd.read_csv('data.csv')\n",
    "#split the dataset\n",
    "training_data, test_data = train_test_split(df, test_size= 0.2, random_state=42)"
   ]
  },
  {
   "cell_type": "code",
   "execution_count": null,
   "id": "c14f2ec8",
   "metadata": {},
   "outputs": [],
   "source": [
    "import torchvision.transforms as transforms\n",
    "from torchvision import datasets\n",
    "#convert the dataset into tensors\n",
    "train_data =  torch.tensor(training_data) #this is just an example\n",
    "#if you have a custom dataset\n",
    "train_data =CustomDataset(training_data,transforms= ToTensor())"
   ]
  },
  {
   "cell_type": "code",
   "execution_count": null,
   "id": "d9df0ba4",
   "metadata": {},
   "outputs": [],
   "source": [
    "from torch.utils.data.dataloader import DataLoader\n",
    "from torch.utils import data\n",
    "#dataset chunk to use for each iteration\n",
    "batchsize = 32\n",
    "#create a dataloder\n",
    "train_dataloader = DataLoader(train_data, batch_size= batchsize)\n",
    "test_dataloader = DataLoader(test_data, batch_size = batchsize)"
   ]
  },
  {
   "cell_type": "code",
   "execution_count": null,
   "id": "0578871f",
   "metadata": {},
   "outputs": [],
   "source": [
    "#check the device used for training the model\n",
    "import torch\n",
    "device =(\n",
    "    \"cuda\"\n",
    "    if torch.cuda.is_available()\n",
    "    else \"mps\"\n",
    "    if torch.backends.mps.is_available()\n",
    "    else \"cpu\"\n",
    ")\n",
    "print(f\"using {device} device\")"
   ]
  },
  {
   "cell_type": "code",
   "execution_count": null,
   "id": "9efcca81",
   "metadata": {},
   "outputs": [],
   "source": [
    "class cortex(nn.Module):\n",
    "  #define our algorithm \n",
    "  def __init__(self):\n",
    "    ''' define your weights and bias \n",
    "    NOTE for a linear model '''\n",
    "    pass\n",
    "    ''' your could also define an multiplayer perceptron'''\n",
    "  #defining a forward pass\n",
    "  def forward(self, x):\n",
    "    '''define what happens with x params'''\n",
    "    return \n",
    "model = biger().to(device)"
   ]
  },
  {
   "cell_type": "code",
   "execution_count": null,
   "id": "b1644542",
   "metadata": {},
   "outputs": [],
   "source": [
    "\n",
    "#define loss function e.g  cross entropy loss, squared mean error etc.\n",
    "loss_fn = nn.CrossEntropyLoss()\n",
    "#define optimizer to adjust the weights and baises of the nueral network e.g \n",
    "#stochastic gradient(SGD), Adam etc.\n",
    "optimizer = torch.optim.SGD(model.parameters(), lr=1e-3) \n",
    "#lr is the learning rate(alpha)\n"
   ]
  },
  {
   "cell_type": "code",
   "execution_count": null,
   "id": "87566826",
   "metadata": {},
   "outputs": [],
   "source": [
    "# the training function\n",
    "def train(dataloader, model, loss_fn, optimizer):\n",
    "    size = len(dataloader.dataset)\n",
    "    model.train()\n",
    "    for batch, (X, y) in enumerate(dataloader):\n",
    "        X, y = X.to(device), y.to(device)\n",
    "\n",
    "        # Compute prediction error\n",
    "        pred = model(X)\n",
    "        loss = loss_fn(pred, y)\n",
    "\n",
    "        # Backpropagation\n",
    "        #Zero_grad  sends the gradient to zero after every iteration\n",
    "        optimizer.zero_grad()\n",
    "        loss.backward()\n",
    "        optimizer.step()\n",
    "\n",
    "        if batch % 100 == 0:\n",
    "            loss, current = loss.item(), (batch + 1) * len(X)\n",
    "            print(f\"loss: {loss:>7f}  [{current:>5d}/{size:>5d}]\")"
   ]
  },
  {
   "cell_type": "code",
   "execution_count": null,
   "id": "89e77997",
   "metadata": {},
   "outputs": [],
   "source": [
    "def test(dataloader, model, loss_fn):\n",
    "    size = len(dataloader.dataset)\n",
    "    num_batches = len(dataloader)\n",
    "    model.eval()\n",
    "    test_loss, correct = 0, 0\n",
    "    with torch.no_grad():\n",
    "        for X, y in dataloader:\n",
    "            X, y = X.to(device), y.to(device)\n",
    "            pred = model(X)\n",
    "            test_loss += loss_fn(pred, y).item()\n",
    "            correct += (pred.argmax(1) == y).type(torch.float).sum().item()\n",
    "    test_loss /= num_batches\n",
    "    correct /= size\n",
    "    print(f\"Test Error: \\n Accuracy: {(100*correct):>0.1f}%, Avg loss: {test_loss:>8f} \\n\")"
   ]
  }
 ],
 "metadata": {
  "kernelspec": {
   "display_name": "Python 3 (ipykernel)",
   "language": "python",
   "name": "python3"
  },
  "language_info": {
   "codemirror_mode": {
    "name": "ipython",
    "version": 3
   },
   "file_extension": ".py",
   "mimetype": "text/x-python",
   "name": "python",
   "nbconvert_exporter": "python",
   "pygments_lexer": "ipython3",
   "version": "3.10.8"
  }
 },
 "nbformat": 4,
 "nbformat_minor": 5
}
